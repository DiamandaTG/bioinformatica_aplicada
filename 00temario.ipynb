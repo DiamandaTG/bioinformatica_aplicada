{
 "cells": [
  {
   "cell_type": "markdown",
   "metadata": {},
   "source": [
    "# Bioinformática aplicada a recursos genéticos"
   ]
  },
  {
   "cell_type": "markdown",
   "metadata": {},
   "source": [
    "### <div style=\"text-align: right\"> Dr. Miguel Angel del Río Portilla </div> <div style=\"text-align: right\"> Ing. Biotec. Diamanda Tapia Gallardo</div>"
   ]
  },
  {
   "cell_type": "markdown",
   "metadata": {},
   "source": [
    "## I. Introducción \n",
    "1. ¿Qué es la bioinformática?\n",
    "2. Código Genético\n",
    "3. Secuenciación del DNA\n",
    "4. Archivos de información genética\n",
    "5. Páginas de información genética en la red\n",
    "6. Manejo de secuencias (Sanger)\n",
    "7. MEGA\n",
    "8. Instalación de programas\n",
    "9. Ejercicios con secuencias\n"
   ]
  },
  {
   "cell_type": "markdown",
   "metadata": {},
   "source": [
    "## II. Lenguajes para el análisis de secuencias\n",
    "1. Linux\n",
    "2. Python \n",
    "3. R\n",
    "4. Otros\n"
   ]
  },
  {
   "cell_type": "markdown",
   "metadata": {},
   "source": [
    "## III. Jupyter\n",
    "1. Creación de bitácoras electrónicas\n",
    "2. Markdown\n",
    "3. Ejecución de comandos en línea\n",
    " ... Linux\n",
    " ... Python\n"
   ]
  },
  {
   "cell_type": "markdown",
   "metadata": {},
   "source": [
    "## IV. Python \n",
    "1. Variables\n",
    "2. Ciclos\n",
    "3. Manejo de imágenes\n",
    "4. Series y variables\n",
    "5. Pandas (manejo de datos tabulares)\n",
    "6. Graficado de datos tabulares\n"
   ]
  },
  {
   "cell_type": "markdown",
   "metadata": {},
   "source": [
    "## V Blast\n",
    "1. Instalación\n",
    "2. Descargado de bases de datos\n",
    "3. Blastn\n",
    "4. Blastx\n",
    "5. Creación de bases de datos \n",
    "6. Manejo de archivos de salida del Blast\n",
    "7. Ejecución en línea de comandos"
   ]
  },
  {
   "cell_type": "markdown",
   "metadata": {},
   "source": [
    "## VI Ontología genética (GO)\n",
    "1. Introducción\n",
    "2. Base de datos de GO\n",
    "3. Integración de la información de Blast con GO\n",
    "4. Graficado de los datos de GO"
   ]
  },
  {
   "cell_type": "markdown",
   "metadata": {},
   "source": [
    "## VII Biopython I\n",
    "1. Instalación\n",
    "2. Manejo de archivos de secuenciación\n",
    "3. Estadística descriptiva y graficado de datos de las secuencias\n",
    "4. Creación de archivos con formato fasta y GenBank\n",
    "5. Alineamiento de secuencias\n",
    "6. Cambio de nombre y descripción de archivos de secuencias\n",
    "7. Descarga y manipulación de archivos del GenBank\n",
    "\n"
   ]
  },
  {
   "cell_type": "markdown",
   "metadata": {},
   "source": [
    "## VIII MEGA\n",
    "1. Alineamiento y obtención de árboles filogenéticos\n"
   ]
  },
  {
   "cell_type": "markdown",
   "metadata": {},
   "source": [
    "## IX Biopython III\n",
    "1. Ejercicios con secuencias y datos tabulares\n",
    "2. Optimización de procedimientos\n",
    "3. Adecuación de la presentación de la bitácora\n"
   ]
  },
  {
   "cell_type": "markdown",
   "metadata": {},
   "source": [
    "## X Microsatélites y biopython \n",
    "1. Búsqueda de motivos de repetición\n",
    "2. msatCommander\n",
    "3. Manejo de archivos de salida del msatCommander\n",
    "4. Graficado de datos de salida\n",
    "5. Blast y, en su caso, anotación de las secuencias con microsatélites\n",
    "6. Marcos de lectura abiertos"
   ]
  },
  {
   "cell_type": "markdown",
   "metadata": {},
   "source": [
    "## XI Diseño de iniciadores \n",
    "1. Primer3 en línea\n",
    "2. Iniciadores para amplificación de microsatélites\n",
    "3. Iniciadores para PCR entiempo real \n"
   ]
  },
  {
   "cell_type": "markdown",
   "metadata": {},
   "source": [
    "## XII Excel\n",
    "1. Lectura de archivos de valores separado por comas\n",
    "2. Extracción de valores y creación de columnas especiales\n",
    "3. Búsqueda vertical y horizontal\n",
    "4. Tablas dinámicas\n",
    "5. Manipulación de archivos de salida del Blast\n"
   ]
  },
  {
   "cell_type": "markdown",
   "metadata": {},
   "source": [
    "## XIII Introducción a la secuenciación masiva\t\n",
    "1. Tipo de secuenciadores masivos\n",
    "2. Archivos Fastaq\n",
    "3. Lecturas (tamaño)\n",
    "4. Calidad de las secuencias\n",
    "5. Ensamblaje\n",
    "6. Anotación\n"
   ]
  },
  {
   "cell_type": "code",
   "execution_count": null,
   "metadata": {
    "collapsed": true
   },
   "outputs": [],
   "source": []
  }
 ],
 "metadata": {
  "kernelspec": {
   "display_name": "Python 3",
   "language": "python",
   "name": "python3"
  },
  "language_info": {
   "codemirror_mode": {
    "name": "ipython",
    "version": 3
   },
   "file_extension": ".py",
   "mimetype": "text/x-python",
   "name": "python",
   "nbconvert_exporter": "python",
   "pygments_lexer": "ipython3",
   "version": "3.6.3"
  }
 },
 "nbformat": 4,
 "nbformat_minor": 2
}
